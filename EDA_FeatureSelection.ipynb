{
 "cells": [
  {
   "cell_type": "code",
   "execution_count": 1,
   "id": "81d8fd37",
   "metadata": {},
   "outputs": [
    {
     "name": "stdout",
     "output_type": "stream",
     "text": [
      "Looking in indexes: https://pypi.org/simple, https://pypi.ngc.nvidia.com\n",
      "Requirement already satisfied: category-encoders in /Users/nitheshrajmohan/miniforge3/envs/newv/lib/python3.10/site-packages (2.6.0)\n",
      "Requirement already satisfied: scipy>=1.0.0 in /Users/nitheshrajmohan/miniforge3/envs/newv/lib/python3.10/site-packages (from category-encoders) (1.9.3)\n",
      "Requirement already satisfied: pandas>=1.0.5 in /Users/nitheshrajmohan/miniforge3/envs/newv/lib/python3.10/site-packages (from category-encoders) (1.5.2)\n",
      "Requirement already satisfied: patsy>=0.5.1 in /Users/nitheshrajmohan/miniforge3/envs/newv/lib/python3.10/site-packages (from category-encoders) (0.5.3)\n",
      "Requirement already satisfied: statsmodels>=0.9.0 in /Users/nitheshrajmohan/miniforge3/envs/newv/lib/python3.10/site-packages (from category-encoders) (0.13.5)\n",
      "Requirement already satisfied: scikit-learn>=0.20.0 in /Users/nitheshrajmohan/miniforge3/envs/newv/lib/python3.10/site-packages (from category-encoders) (1.2.0)\n",
      "Requirement already satisfied: numpy>=1.14.0 in /Users/nitheshrajmohan/miniforge3/envs/newv/lib/python3.10/site-packages (from category-encoders) (1.23.4)\n",
      "Requirement already satisfied: pytz>=2020.1 in /Users/nitheshrajmohan/miniforge3/envs/newv/lib/python3.10/site-packages (from pandas>=1.0.5->category-encoders) (2022.6)\n",
      "Requirement already satisfied: python-dateutil>=2.8.1 in /Users/nitheshrajmohan/miniforge3/envs/newv/lib/python3.10/site-packages (from pandas>=1.0.5->category-encoders) (2.8.2)\n",
      "Requirement already satisfied: six in /Users/nitheshrajmohan/miniforge3/envs/newv/lib/python3.10/site-packages (from patsy>=0.5.1->category-encoders) (1.16.0)\n",
      "Requirement already satisfied: threadpoolctl>=2.0.0 in /Users/nitheshrajmohan/miniforge3/envs/newv/lib/python3.10/site-packages (from scikit-learn>=0.20.0->category-encoders) (3.1.0)\n",
      "Requirement already satisfied: joblib>=1.1.1 in /Users/nitheshrajmohan/miniforge3/envs/newv/lib/python3.10/site-packages (from scikit-learn>=0.20.0->category-encoders) (1.2.0)\n",
      "Requirement already satisfied: packaging>=21.3 in /Users/nitheshrajmohan/miniforge3/envs/newv/lib/python3.10/site-packages (from statsmodels>=0.9.0->category-encoders) (22.0)\n"
     ]
    }
   ],
   "source": [
    "! pip install category-encoders"
   ]
  },
  {
   "cell_type": "markdown",
   "id": "bff940b0",
   "metadata": {},
   "source": [
    "# Importing the necessary libraries\n",
    "\n",
    "-  Importing the libraries"
   ]
  },
  {
   "cell_type": "code",
   "execution_count": 2,
   "id": "f205010f",
   "metadata": {},
   "outputs": [],
   "source": [
    "import pandas as pd\n",
    "import numpy as np\n",
    "from tqdm import tqdm\n",
    "from sklearn.feature_selection import SelectKBest, f_regression\n",
    "from sklearn.decomposition import PCA\n",
    "from sklearn.impute import SimpleImputer\n",
    "from sklearn.linear_model import LinearRegression\n",
    "from category_encoders.target_encoder import TargetEncoder\n",
    "from sklearn.model_selection import train_test_split\n",
    "from sklearn.metrics import mean_squared_error"
   ]
  },
  {
   "cell_type": "markdown",
   "id": "4c9e91ed",
   "metadata": {},
   "source": [
    "# Data import and EDA\n",
    "\n",
    "- Loadind the data from the CSV file\n",
    "- Spliting the data into features and target.\n",
    "- Target encoding is been performed on the categorical features\n",
    "- Imputing the missing values with the mean of the features.\n",
    "- Spliting the data into training and testing sets"
   ]
  },
  {
   "cell_type": "code",
   "execution_count": 3,
   "id": "40e120ec",
   "metadata": {},
   "outputs": [],
   "source": [
    "data = pd.read_csv(\"/Users/nitheshrajmohan/Desktop/Ganesh_review/data/shot_logs.csv\")"
   ]
  },
  {
   "cell_type": "code",
   "execution_count": 4,
   "id": "aa19e716",
   "metadata": {},
   "outputs": [
    {
     "name": "stdout",
     "output_type": "stream",
     "text": [
      "<class 'pandas.core.frame.DataFrame'>\n",
      "RangeIndex: 128069 entries, 0 to 128068\n",
      "Data columns (total 21 columns):\n",
      " #   Column                      Non-Null Count   Dtype  \n",
      "---  ------                      --------------   -----  \n",
      " 0   GAME_ID                     128069 non-null  int64  \n",
      " 1   MATCHUP                     128069 non-null  object \n",
      " 2   LOCATION                    128069 non-null  object \n",
      " 3   W                           128069 non-null  object \n",
      " 4   FINAL_MARGIN                128069 non-null  int64  \n",
      " 5   SHOT_NUMBER                 128069 non-null  int64  \n",
      " 6   PERIOD                      128069 non-null  int64  \n",
      " 7   GAME_CLOCK                  128069 non-null  object \n",
      " 8   SHOT_CLOCK                  122502 non-null  float64\n",
      " 9   DRIBBLES                    128069 non-null  int64  \n",
      " 10  TOUCH_TIME                  128069 non-null  float64\n",
      " 11  SHOT_DIST                   128069 non-null  float64\n",
      " 12  PTS_TYPE                    128069 non-null  int64  \n",
      " 13  SHOT_RESULT                 128069 non-null  object \n",
      " 14  CLOSEST_DEFENDER            128069 non-null  object \n",
      " 15  CLOSEST_DEFENDER_PLAYER_ID  128069 non-null  int64  \n",
      " 16  CLOSE_DEF_DIST              128069 non-null  float64\n",
      " 17  FGM                         128069 non-null  int64  \n",
      " 18  PTS                         128069 non-null  int64  \n",
      " 19  player_name                 128069 non-null  object \n",
      " 20  player_id                   128069 non-null  int64  \n",
      "dtypes: float64(4), int64(10), object(7)\n",
      "memory usage: 20.5+ MB\n"
     ]
    }
   ],
   "source": [
    "data.info()"
   ]
  },
  {
   "cell_type": "code",
   "execution_count": 5,
   "id": "f7cf84e4",
   "metadata": {},
   "outputs": [
    {
     "data": {
      "text/plain": [
       "GAME_ID                          0\n",
       "MATCHUP                          0\n",
       "LOCATION                         0\n",
       "W                                0\n",
       "FINAL_MARGIN                     0\n",
       "SHOT_NUMBER                      0\n",
       "PERIOD                           0\n",
       "GAME_CLOCK                       0\n",
       "SHOT_CLOCK                    5567\n",
       "DRIBBLES                         0\n",
       "TOUCH_TIME                       0\n",
       "SHOT_DIST                        0\n",
       "PTS_TYPE                         0\n",
       "SHOT_RESULT                      0\n",
       "CLOSEST_DEFENDER                 0\n",
       "CLOSEST_DEFENDER_PLAYER_ID       0\n",
       "CLOSE_DEF_DIST                   0\n",
       "FGM                              0\n",
       "PTS                              0\n",
       "player_name                      0\n",
       "player_id                        0\n",
       "dtype: int64"
      ]
     },
     "execution_count": 5,
     "metadata": {},
     "output_type": "execute_result"
    }
   ],
   "source": [
    "data.isnull().sum()"
   ]
  },
  {
   "cell_type": "markdown",
   "id": "842c312d",
   "metadata": {},
   "source": [
    "### Splitting the data into features and target"
   ]
  },
  {
   "cell_type": "code",
   "execution_count": 6,
   "id": "21f42747",
   "metadata": {},
   "outputs": [],
   "source": [
    "X = data.drop(columns=['PTS'])\n",
    "y = data['PTS']"
   ]
  },
  {
   "cell_type": "markdown",
   "id": "3ff1f338",
   "metadata": {},
   "source": [
    "### Identifying the categorical features and performing the target encoding on the categorical features"
   ]
  },
  {
   "cell_type": "code",
   "execution_count": 7,
   "id": "711bba81",
   "metadata": {},
   "outputs": [],
   "source": [
    "encoder = TargetEncoder()\n",
    "\n",
    "categorical_cols = X.select_dtypes(include=['object']).columns\n",
    "X_encoded = encoder.fit_transform(X[categorical_cols], y)"
   ]
  },
  {
   "cell_type": "markdown",
   "id": "a989c139",
   "metadata": {},
   "source": [
    "### Imputing the missing values with the mean"
   ]
  },
  {
   "cell_type": "code",
   "execution_count": 8,
   "id": "58bd0517",
   "metadata": {},
   "outputs": [],
   "source": [
    "imputer = SimpleImputer(strategy='mean')\n",
    "X_imputed = imputer.fit_transform(X_encoded)"
   ]
  },
  {
   "cell_type": "markdown",
   "id": "0a7ea62d",
   "metadata": {},
   "source": [
    "### Spliting the data into training and testing sets"
   ]
  },
  {
   "cell_type": "code",
   "execution_count": 9,
   "id": "55e5a5e1",
   "metadata": {},
   "outputs": [],
   "source": [
    "X_train, X_test, y_train, y_test = train_test_split(X_imputed, y, test_size=0.2, random_state=42)"
   ]
  },
  {
   "cell_type": "markdown",
   "id": "c5cd3e82",
   "metadata": {},
   "source": [
    "# Feature Selection Technique 1: SelectKBest\n",
    "\n",
    "-  Training a linear regression model on the reduced feature set using SelectKBest\n",
    "-  Making predictions on the test set using SelectKBest\n",
    "-  Calculating the mean squared error using SelectKBest"
   ]
  },
  {
   "cell_type": "code",
   "execution_count": 10,
   "id": "2415985b",
   "metadata": {},
   "outputs": [],
   "source": [
    "selector = SelectKBest(score_func=f_regression, k=5)\n",
    "X_train_kbest = selector.fit_transform(X_train, y_train)\n",
    "X_test_kbest = selector.transform(X_test)"
   ]
  },
  {
   "cell_type": "markdown",
   "id": "68c1ff65",
   "metadata": {},
   "source": [
    "### Train a linear regression model on the reduced feature set using SelectKBest"
   ]
  },
  {
   "cell_type": "code",
   "execution_count": 11,
   "id": "27d95c77",
   "metadata": {},
   "outputs": [
    {
     "data": {
      "text/html": [
       "<style>#sk-container-id-1 {color: black;background-color: white;}#sk-container-id-1 pre{padding: 0;}#sk-container-id-1 div.sk-toggleable {background-color: white;}#sk-container-id-1 label.sk-toggleable__label {cursor: pointer;display: block;width: 100%;margin-bottom: 0;padding: 0.3em;box-sizing: border-box;text-align: center;}#sk-container-id-1 label.sk-toggleable__label-arrow:before {content: \"▸\";float: left;margin-right: 0.25em;color: #696969;}#sk-container-id-1 label.sk-toggleable__label-arrow:hover:before {color: black;}#sk-container-id-1 div.sk-estimator:hover label.sk-toggleable__label-arrow:before {color: black;}#sk-container-id-1 div.sk-toggleable__content {max-height: 0;max-width: 0;overflow: hidden;text-align: left;background-color: #f0f8ff;}#sk-container-id-1 div.sk-toggleable__content pre {margin: 0.2em;color: black;border-radius: 0.25em;background-color: #f0f8ff;}#sk-container-id-1 input.sk-toggleable__control:checked~div.sk-toggleable__content {max-height: 200px;max-width: 100%;overflow: auto;}#sk-container-id-1 input.sk-toggleable__control:checked~label.sk-toggleable__label-arrow:before {content: \"▾\";}#sk-container-id-1 div.sk-estimator input.sk-toggleable__control:checked~label.sk-toggleable__label {background-color: #d4ebff;}#sk-container-id-1 div.sk-label input.sk-toggleable__control:checked~label.sk-toggleable__label {background-color: #d4ebff;}#sk-container-id-1 input.sk-hidden--visually {border: 0;clip: rect(1px 1px 1px 1px);clip: rect(1px, 1px, 1px, 1px);height: 1px;margin: -1px;overflow: hidden;padding: 0;position: absolute;width: 1px;}#sk-container-id-1 div.sk-estimator {font-family: monospace;background-color: #f0f8ff;border: 1px dotted black;border-radius: 0.25em;box-sizing: border-box;margin-bottom: 0.5em;}#sk-container-id-1 div.sk-estimator:hover {background-color: #d4ebff;}#sk-container-id-1 div.sk-parallel-item::after {content: \"\";width: 100%;border-bottom: 1px solid gray;flex-grow: 1;}#sk-container-id-1 div.sk-label:hover label.sk-toggleable__label {background-color: #d4ebff;}#sk-container-id-1 div.sk-serial::before {content: \"\";position: absolute;border-left: 1px solid gray;box-sizing: border-box;top: 0;bottom: 0;left: 50%;z-index: 0;}#sk-container-id-1 div.sk-serial {display: flex;flex-direction: column;align-items: center;background-color: white;padding-right: 0.2em;padding-left: 0.2em;position: relative;}#sk-container-id-1 div.sk-item {position: relative;z-index: 1;}#sk-container-id-1 div.sk-parallel {display: flex;align-items: stretch;justify-content: center;background-color: white;position: relative;}#sk-container-id-1 div.sk-item::before, #sk-container-id-1 div.sk-parallel-item::before {content: \"\";position: absolute;border-left: 1px solid gray;box-sizing: border-box;top: 0;bottom: 0;left: 50%;z-index: -1;}#sk-container-id-1 div.sk-parallel-item {display: flex;flex-direction: column;z-index: 1;position: relative;background-color: white;}#sk-container-id-1 div.sk-parallel-item:first-child::after {align-self: flex-end;width: 50%;}#sk-container-id-1 div.sk-parallel-item:last-child::after {align-self: flex-start;width: 50%;}#sk-container-id-1 div.sk-parallel-item:only-child::after {width: 0;}#sk-container-id-1 div.sk-dashed-wrapped {border: 1px dashed gray;margin: 0 0.4em 0.5em 0.4em;box-sizing: border-box;padding-bottom: 0.4em;background-color: white;}#sk-container-id-1 div.sk-label label {font-family: monospace;font-weight: bold;display: inline-block;line-height: 1.2em;}#sk-container-id-1 div.sk-label-container {text-align: center;}#sk-container-id-1 div.sk-container {/* jupyter's `normalize.less` sets `[hidden] { display: none; }` but bootstrap.min.css set `[hidden] { display: none !important; }` so we also need the `!important` here to be able to override the default hidden behavior on the sphinx rendered scikit-learn.org. See: https://github.com/scikit-learn/scikit-learn/issues/21755 */display: inline-block !important;position: relative;}#sk-container-id-1 div.sk-text-repr-fallback {display: none;}</style><div id=\"sk-container-id-1\" class=\"sk-top-container\"><div class=\"sk-text-repr-fallback\"><pre>LinearRegression()</pre><b>In a Jupyter environment, please rerun this cell to show the HTML representation or trust the notebook. <br />On GitHub, the HTML representation is unable to render, please try loading this page with nbviewer.org.</b></div><div class=\"sk-container\" hidden><div class=\"sk-item\"><div class=\"sk-estimator sk-toggleable\"><input class=\"sk-toggleable__control sk-hidden--visually\" id=\"sk-estimator-id-1\" type=\"checkbox\" checked><label for=\"sk-estimator-id-1\" class=\"sk-toggleable__label sk-toggleable__label-arrow\">LinearRegression</label><div class=\"sk-toggleable__content\"><pre>LinearRegression()</pre></div></div></div></div></div>"
      ],
      "text/plain": [
       "LinearRegression()"
      ]
     },
     "execution_count": 11,
     "metadata": {},
     "output_type": "execute_result"
    }
   ],
   "source": [
    "model_kbest = LinearRegression()\n",
    "model_kbest.fit(X_train_kbest, y_train)"
   ]
  },
  {
   "cell_type": "markdown",
   "id": "7c9fb563",
   "metadata": {},
   "source": [
    "### Make predictions on the test set using SelectKBest"
   ]
  },
  {
   "cell_type": "code",
   "execution_count": 12,
   "id": "b78f0cbf",
   "metadata": {},
   "outputs": [],
   "source": [
    "y_pred_kbest = model_kbest.predict(X_test_kbest)"
   ]
  },
  {
   "cell_type": "markdown",
   "id": "4ba50c6f",
   "metadata": {},
   "source": [
    "### Calculate the mean squared error using SelectKBest"
   ]
  },
  {
   "cell_type": "code",
   "execution_count": 13,
   "id": "e8f4db7e",
   "metadata": {},
   "outputs": [],
   "source": [
    "mse_kbest = mean_squared_error(y_test, y_pred_kbest)"
   ]
  },
  {
   "cell_type": "markdown",
   "id": "11162721",
   "metadata": {},
   "source": [
    "# Feature Selection Technique 2: PCA\n",
    "\n",
    "- Training a linear regression model on the reduced feature set using PCA\n",
    "- Making predictions on the test set using PCA\n",
    "- Calculating the mean squared error using PCA"
   ]
  },
  {
   "cell_type": "code",
   "execution_count": 14,
   "id": "7bdf70cc",
   "metadata": {},
   "outputs": [],
   "source": [
    "pca = PCA(n_components=5)\n",
    "X_train_pca = pca.fit_transform(X_train)\n",
    "X_test_pca = pca.transform(X_test)"
   ]
  },
  {
   "cell_type": "markdown",
   "id": "43cd064e",
   "metadata": {},
   "source": [
    "### Train a linear regression model on the reduced feature set using PCA"
   ]
  },
  {
   "cell_type": "code",
   "execution_count": 15,
   "id": "92feb317",
   "metadata": {},
   "outputs": [
    {
     "data": {
      "text/html": [
       "<style>#sk-container-id-2 {color: black;background-color: white;}#sk-container-id-2 pre{padding: 0;}#sk-container-id-2 div.sk-toggleable {background-color: white;}#sk-container-id-2 label.sk-toggleable__label {cursor: pointer;display: block;width: 100%;margin-bottom: 0;padding: 0.3em;box-sizing: border-box;text-align: center;}#sk-container-id-2 label.sk-toggleable__label-arrow:before {content: \"▸\";float: left;margin-right: 0.25em;color: #696969;}#sk-container-id-2 label.sk-toggleable__label-arrow:hover:before {color: black;}#sk-container-id-2 div.sk-estimator:hover label.sk-toggleable__label-arrow:before {color: black;}#sk-container-id-2 div.sk-toggleable__content {max-height: 0;max-width: 0;overflow: hidden;text-align: left;background-color: #f0f8ff;}#sk-container-id-2 div.sk-toggleable__content pre {margin: 0.2em;color: black;border-radius: 0.25em;background-color: #f0f8ff;}#sk-container-id-2 input.sk-toggleable__control:checked~div.sk-toggleable__content {max-height: 200px;max-width: 100%;overflow: auto;}#sk-container-id-2 input.sk-toggleable__control:checked~label.sk-toggleable__label-arrow:before {content: \"▾\";}#sk-container-id-2 div.sk-estimator input.sk-toggleable__control:checked~label.sk-toggleable__label {background-color: #d4ebff;}#sk-container-id-2 div.sk-label input.sk-toggleable__control:checked~label.sk-toggleable__label {background-color: #d4ebff;}#sk-container-id-2 input.sk-hidden--visually {border: 0;clip: rect(1px 1px 1px 1px);clip: rect(1px, 1px, 1px, 1px);height: 1px;margin: -1px;overflow: hidden;padding: 0;position: absolute;width: 1px;}#sk-container-id-2 div.sk-estimator {font-family: monospace;background-color: #f0f8ff;border: 1px dotted black;border-radius: 0.25em;box-sizing: border-box;margin-bottom: 0.5em;}#sk-container-id-2 div.sk-estimator:hover {background-color: #d4ebff;}#sk-container-id-2 div.sk-parallel-item::after {content: \"\";width: 100%;border-bottom: 1px solid gray;flex-grow: 1;}#sk-container-id-2 div.sk-label:hover label.sk-toggleable__label {background-color: #d4ebff;}#sk-container-id-2 div.sk-serial::before {content: \"\";position: absolute;border-left: 1px solid gray;box-sizing: border-box;top: 0;bottom: 0;left: 50%;z-index: 0;}#sk-container-id-2 div.sk-serial {display: flex;flex-direction: column;align-items: center;background-color: white;padding-right: 0.2em;padding-left: 0.2em;position: relative;}#sk-container-id-2 div.sk-item {position: relative;z-index: 1;}#sk-container-id-2 div.sk-parallel {display: flex;align-items: stretch;justify-content: center;background-color: white;position: relative;}#sk-container-id-2 div.sk-item::before, #sk-container-id-2 div.sk-parallel-item::before {content: \"\";position: absolute;border-left: 1px solid gray;box-sizing: border-box;top: 0;bottom: 0;left: 50%;z-index: -1;}#sk-container-id-2 div.sk-parallel-item {display: flex;flex-direction: column;z-index: 1;position: relative;background-color: white;}#sk-container-id-2 div.sk-parallel-item:first-child::after {align-self: flex-end;width: 50%;}#sk-container-id-2 div.sk-parallel-item:last-child::after {align-self: flex-start;width: 50%;}#sk-container-id-2 div.sk-parallel-item:only-child::after {width: 0;}#sk-container-id-2 div.sk-dashed-wrapped {border: 1px dashed gray;margin: 0 0.4em 0.5em 0.4em;box-sizing: border-box;padding-bottom: 0.4em;background-color: white;}#sk-container-id-2 div.sk-label label {font-family: monospace;font-weight: bold;display: inline-block;line-height: 1.2em;}#sk-container-id-2 div.sk-label-container {text-align: center;}#sk-container-id-2 div.sk-container {/* jupyter's `normalize.less` sets `[hidden] { display: none; }` but bootstrap.min.css set `[hidden] { display: none !important; }` so we also need the `!important` here to be able to override the default hidden behavior on the sphinx rendered scikit-learn.org. See: https://github.com/scikit-learn/scikit-learn/issues/21755 */display: inline-block !important;position: relative;}#sk-container-id-2 div.sk-text-repr-fallback {display: none;}</style><div id=\"sk-container-id-2\" class=\"sk-top-container\"><div class=\"sk-text-repr-fallback\"><pre>LinearRegression()</pre><b>In a Jupyter environment, please rerun this cell to show the HTML representation or trust the notebook. <br />On GitHub, the HTML representation is unable to render, please try loading this page with nbviewer.org.</b></div><div class=\"sk-container\" hidden><div class=\"sk-item\"><div class=\"sk-estimator sk-toggleable\"><input class=\"sk-toggleable__control sk-hidden--visually\" id=\"sk-estimator-id-2\" type=\"checkbox\" checked><label for=\"sk-estimator-id-2\" class=\"sk-toggleable__label sk-toggleable__label-arrow\">LinearRegression</label><div class=\"sk-toggleable__content\"><pre>LinearRegression()</pre></div></div></div></div></div>"
      ],
      "text/plain": [
       "LinearRegression()"
      ]
     },
     "execution_count": 15,
     "metadata": {},
     "output_type": "execute_result"
    }
   ],
   "source": [
    "model_pca = LinearRegression()\n",
    "model_pca.fit(X_train_pca, y_train)"
   ]
  },
  {
   "cell_type": "markdown",
   "id": "45fd0f4f",
   "metadata": {},
   "source": [
    "### Make predictions on the test set using PCA"
   ]
  },
  {
   "cell_type": "code",
   "execution_count": 16,
   "id": "d43ebd35",
   "metadata": {},
   "outputs": [],
   "source": [
    "y_pred_pca = model_pca.predict(X_test_pca)"
   ]
  },
  {
   "cell_type": "markdown",
   "id": "d10e68fb",
   "metadata": {},
   "source": [
    "### Calculate the mean squared error using PCA"
   ]
  },
  {
   "cell_type": "code",
   "execution_count": 17,
   "id": "554dbbf4",
   "metadata": {},
   "outputs": [],
   "source": [
    "mse_pca = mean_squared_error(y_test, y_pred_pca)"
   ]
  },
  {
   "cell_type": "markdown",
   "id": "289314c6",
   "metadata": {},
   "source": [
    "### Calculate the mean squared error using PCA"
   ]
  },
  {
   "cell_type": "code",
   "execution_count": 18,
   "id": "9c18d84f",
   "metadata": {},
   "outputs": [],
   "source": [
    "mse_pca = mean_squared_error(y_test, y_pred_pca)"
   ]
  },
  {
   "cell_type": "markdown",
   "id": "4869b60c",
   "metadata": {},
   "source": [
    "# Print the mean squared error for each technique"
   ]
  },
  {
   "cell_type": "code",
   "execution_count": 19,
   "id": "0f65ed5c",
   "metadata": {},
   "outputs": [
    {
     "name": "stdout",
     "output_type": "stream",
     "text": [
      "Mean Squared Error using SelectKBest:  0.07518167691904357\n",
      "Mean Squared Error using PCA:  0.07518836292889028\n"
     ]
    }
   ],
   "source": [
    "print(\"Mean Squared Error using SelectKBest: \", mse_kbest)\n",
    "print(\"Mean Squared Error using PCA: \", mse_pca)"
   ]
  },
  {
   "cell_type": "markdown",
   "id": "0d2e9acd",
   "metadata": {},
   "source": [
    "# INFERENCE"
   ]
  },
  {
   "cell_type": "markdown",
   "id": "4ee9feb0",
   "metadata": {},
   "source": [
    "### The SelectKBest feature selection strategy appears to have outperformed PCA in terms of lowering the number of features while preserving model performance, based on the mean squared error values. The model trained on the smaller feature set using SelectKBest was able to generate better predictions on the test data, as evidenced by the fact that the MSE using SelectKBest was lower than the MSE using PCA. It's crucial to remember that the selection of the feature selection or reduction strategy should be based on the particular dataset and problem at hand. This is because different techniques may perform better or worse depending on the circumstances."
   ]
  },
  {
   "cell_type": "code",
   "execution_count": null,
   "id": "449f1df2",
   "metadata": {},
   "outputs": [],
   "source": []
  }
 ],
 "metadata": {
  "kernelspec": {
   "display_name": "Python 3 (ipykernel)",
   "language": "python",
   "name": "python3"
  },
  "language_info": {
   "codemirror_mode": {
    "name": "ipython",
    "version": 3
   },
   "file_extension": ".py",
   "mimetype": "text/x-python",
   "name": "python",
   "nbconvert_exporter": "python",
   "pygments_lexer": "ipython3",
   "version": "3.10.8"
  }
 },
 "nbformat": 4,
 "nbformat_minor": 5
}
